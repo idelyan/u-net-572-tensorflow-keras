{
 "cells": [
  {
   "cell_type": "code",
   "execution_count": null,
   "metadata": {},
   "outputs": [],
   "source": [
    "from tensorflow.keras.layers import Dense, Conv2D, MaxPooling2D, Flatten, UpSampling2D, Activation, Input, Concatenate, Lambda\n",
    "from tensorflow.keras.optimizers import Adam\n",
    "from tensorflow.keras.preprocessing.image import ImageDataGenerator\n",
    "from tensorflow.keras import Sequential\n",
    "import numpy as np\n",
    "from matplotlib import pyplot\n",
    "from tensorflow.keras import mixed_precision\n",
    "from tensorflow.keras.callbacks import ModelCheckpoint, EarlyStopping, ReduceLROnPlateau\n",
    "from tensorflow.keras.models import Model\n",
    "import tensorflow as tf\n",
    "import os\n",
    "import glob\n",
    "import cv2\n",
    "import matplotlib.pyplot as plt\n",
    "from tensorflow.keras import backend as K\n",
    "from keras.layers.core import Lambda"
   ]
  },
  {
   "cell_type": "code",
   "execution_count": null,
   "metadata": {},
   "outputs": [],
   "source": [
    "if tf.config.list_physical_devices('GPU'):\n",
    "    policy = mixed_precision.Policy('mixed_float16')\n",
    "    mixed_precision.set_global_policy(policy)\n",
    "    batch_size = 16\n",
    "    print('Compute dtype: %s' % policy.compute_dtype)\n",
    "    print('Variable dtype: %s' % policy.variable_dtype)\n",
    "else:\n",
    "    print('The model will run on a CPU')\n",
    "    batch_size = 8"
   ]
  },
  {
   "cell_type": "code",
   "execution_count": null,
   "metadata": {},
   "outputs": [],
   "source": [
    "im_width = 572\n",
    "im_height = 572\n",
    "\n",
    "output_mask_width = 388\n",
    "output_mask_height = 388\n",
    "\n",
    "image_chanels = 3\n",
    "n_classes = 1\n",
    "seed = 42\n",
    "\n",
    "data_path = 'yourdatapath'\n",
    "\n",
    "images_path = data_path + '/' + 'train/images/img/'\n",
    "masks_path = data_path + '/' + 'train/masks/img/'\n",
    "\n",
    "val_images_path = data_path + '/' + 'val/images/img/'\n",
    "val_masks_path = data_path + '/' + 'val/masks/img/'"
   ]
  },
  {
   "cell_type": "code",
   "execution_count": null,
   "metadata": {},
   "outputs": [],
   "source": [
    "input_img_paths = sorted(\n",
    "    [\n",
    "        os.path.join(images_path, fname)\n",
    "        for fname in os.listdir(images_path)\n",
    "        if fname.endswith(\".png\")\n",
    "    ]\n",
    ")\n",
    "target_img_paths = sorted(\n",
    "    [\n",
    "        os.path.join(masks_path, fname)\n",
    "        for fname in os.listdir(masks_path)\n",
    "        if fname.endswith(\".png\") and not fname.startswith(\".\")\n",
    "    ]\n",
    ")\n",
    "\n",
    "val_input_img_paths = sorted(\n",
    "    [\n",
    "        os.path.join(val_images_path, fname)\n",
    "        for fname in os.listdir(val_images_path)\n",
    "        if fname.endswith(\".png\")\n",
    "    ]\n",
    ")\n",
    "val_target_img_paths = sorted(\n",
    "    [\n",
    "        os.path.join(val_masks_path, fname)\n",
    "        for fname in os.listdir(val_masks_path)\n",
    "        if fname.endswith(\".png\") and not fname.startswith(\".\")\n",
    "    ]\n",
    ")"
   ]
  },
  {
   "cell_type": "code",
   "execution_count": null,
   "metadata": {},
   "outputs": [],
   "source": [
    "print('Train images: ' + str(len(input_img_paths)))\n",
    "print('Train masks: ' + str(len(target_img_paths)))\n",
    "\n",
    "print('Val images: ' + str(len(val_input_img_paths)))\n",
    "print('Val masks: ' + str(len(val_target_img_paths)))"
   ]
  },
  {
   "cell_type": "code",
   "execution_count": null,
   "metadata": {},
   "outputs": [],
   "source": [
    "data_gen_args = dict(rescale=1. / 255,\n",
    "                    rotation_range=10,\n",
    "                    shear_range=0.2,\n",
    "                    width_shift_range=0.2,\n",
    "                    height_shift_range=0.2,\n",
    "                    zoom_range=0.2,\n",
    "                    horizontal_flip=True)\n",
    "\n",
    "val_data_gen_args = dict(rescale=1. / 255)\n",
    "\n",
    "image_datagen = ImageDataGenerator(**data_gen_args)\n",
    "mask_datagen = ImageDataGenerator(**data_gen_args)\n",
    "\n",
    "val_image_datagen = ImageDataGenerator(**val_data_gen_args)\n",
    "val_mask_datagen = ImageDataGenerator(**val_data_gen_args)\n",
    "\n",
    "image_generator = image_datagen.flow_from_directory(\n",
    "    'yourdatapath/train/images/',\n",
    "    class_mode=None,\n",
    "    color_mode='rgb',\n",
    "    batch_size=batch_size,\n",
    "    target_size=(im_height, im_width),\n",
    "    seed=seed)\n",
    "mask_generator = mask_datagen.flow_from_directory(\n",
    "    'yourdatapath/train/masks/',\n",
    "    class_mode=None,\n",
    "    color_mode='grayscale',\n",
    "    batch_size=batch_size,\n",
    "    target_size=(output_mask_height, output_mask_width),\n",
    "    seed=seed)\n",
    "\n",
    "val_image_generator = val_image_datagen.flow_from_directory(\n",
    "    'yourdatapath/val/images/',\n",
    "    class_mode=None,\n",
    "    color_mode='rgb',\n",
    "    batch_size=batch_size,\n",
    "    target_size=(im_height, im_width),\n",
    "    seed=seed)\n",
    "val_mask_generator = val_mask_datagen.flow_from_directory(\n",
    "    'yourdatapath/val/masks/',\n",
    "    class_mode=None,\n",
    "    color_mode='grayscale',\n",
    "    batch_size=batch_size,\n",
    "    target_size=(output_mask_height, output_mask_width),\n",
    "    seed=seed)\n",
    "\n",
    "train_generator = zip(image_generator, mask_generator)\n",
    "val_generator = zip(val_image_generator, val_mask_generator)"
   ]
  },
  {
   "cell_type": "code",
   "execution_count": null,
   "metadata": {},
   "outputs": [],
   "source": [
    "def unet(input_shape=(im_height, im_width, image_chanels), f=64, steps=4, n_classes=n_classes):\n",
    "  \n",
    "    def downstream(x, f):\n",
    "        x = Conv2D(f, 3, activation='relu')(x)\n",
    "        d = Conv2D(f, 3, activation='relu')(x)\n",
    "        x = MaxPooling2D(2, strides=2, padding='same')(d)\n",
    "        return d, x\n",
    "\n",
    "    def crop_merge(x, d):\n",
    "        _, xw, xh, _ = K.int_shape(x)\n",
    "        _, dw, dh, _ = K.int_shape(d)\n",
    "        mw, mh = (dw-xw)//2, (dh-xh)//2\n",
    "\n",
    "        d = Lambda(lambda x: x[:, mw: dw-mw, mh: dh-mh, :])(d)\n",
    "        x = Concatenate()([d, x])\n",
    "        return x\n",
    "\n",
    "    def upstream(x, f, d):\n",
    "        x = UpSampling2D()(x)\n",
    "        x = Conv2D(f, 2, padding='same')(x)\n",
    "        x = crop_merge(x, d)\n",
    "        x = Conv2D(f, 3, activation='relu')(x)\n",
    "        x = Conv2D(f, 3, activation='relu')(x)\n",
    "        return x\n",
    "\n",
    "    input = Input(input_shape)\n",
    "    x = input\n",
    "\n",
    "    downsampled = []\n",
    "    for i in range(steps+1):\n",
    "        d, x = downstream(x, f*2**i)\n",
    "        downsampled.append(d)\n",
    "    x = downsampled.pop()\n",
    "\n",
    "    for i in range(steps-1, -1, -1):\n",
    "        x = upstream(x, f*2**i, downsampled[i])\n",
    "\n",
    "    output = Conv2D(n_classes, (1, 1), activation='sigmoid', dtype='float32')(x)\n",
    "    model = Model(input, output)\n",
    "\n",
    "    return model"
   ]
  },
  {
   "cell_type": "code",
   "execution_count": null,
   "metadata": {},
   "outputs": [],
   "source": [
    "model = unet()"
   ]
  },
  {
   "cell_type": "code",
   "execution_count": null,
   "metadata": {},
   "outputs": [],
   "source": [
    "def iou_score(y_pred, y_true, smooth=1.):\n",
    "    intersection = K.sum(K.abs(y_true * y_pred), axis=-1)\n",
    "    union = K.sum(y_true, -1) + K.sum(y_pred, -1) - intersection\n",
    "    iou = (intersection + smooth)/(union + smooth)\n",
    "    return iou\n",
    "\n",
    "def dice_coef(y_true, y_pred, smooth=1.):\n",
    "    y_true_f = K.flatten(y_true)\n",
    "    y_pred_f = K.flatten(y_pred)\n",
    "    intersection = K.sum(y_true_f * y_pred_f)\n",
    "    return (2. * intersection + smooth) / (K.sum(y_true_f) + K.sum(y_pred_f) + smooth)\n",
    "\n",
    "def dice_coef_loss(y_true, y_pred):\n",
    "    return 1 - dice_coef(y_true, y_pred)"
   ]
  },
  {
   "cell_type": "code",
   "execution_count": null,
   "metadata": {},
   "outputs": [],
   "source": [
    "model.compile(optimizer=Adam(), loss='binary_crossentropy', metrics=[dice_coef])"
   ]
  },
  {
   "cell_type": "code",
   "execution_count": null,
   "metadata": {},
   "outputs": [],
   "source": [
    "model.summary()"
   ]
  },
  {
   "cell_type": "code",
   "execution_count": null,
   "metadata": {},
   "outputs": [],
   "source": [
    "model.load_weights('bestresnetunet.h5')"
   ]
  },
  {
   "cell_type": "code",
   "execution_count": null,
   "metadata": {},
   "outputs": [],
   "source": [
    "callbacks = [\n",
    "    EarlyStopping(patience=10, monitor='val_dice_coef', mode='auto'),\n",
    "    ReduceLROnPlateau(factor=0.1, patience=5, min_lr=0.0001, monitor='val_dice_coef', mode='max', verbose=1),\n",
    "    ModelCheckpoint('bestresnetunet.h5', save_best_only=True, save_weights_only=True, monitor='val_dice_coef', mode='max', verbose=1)\n",
    "]"
   ]
  },
  {
   "cell_type": "code",
   "execution_count": null,
   "metadata": {},
   "outputs": [],
   "source": [
    "results = model.fit(train_generator,\n",
    "                    steps_per_epoch=len(input_img_paths) // batch_size,\n",
    "                    batch_size=batch_size,\n",
    "                    validation_data=val_generator,\n",
    "                    validation_steps=len(val_input_img_paths) // batch_size,\n",
    "                    epochs=500,\n",
    "                    callbacks=callbacks)"
   ]
  },
  {
   "cell_type": "code",
   "execution_count": null,
   "metadata": {},
   "outputs": [],
   "source": [
    "model.load_weights('bestresnetunet.h5')"
   ]
  },
  {
   "cell_type": "code",
   "execution_count": null,
   "metadata": {},
   "outputs": [],
   "source": [
    "im = cv2.imread('yourimagepath/images/image.png')\n",
    "im = cv2.resize(im, (im_height, im_width), interpolation = cv2.INTER_AREA)\n",
    "img = img_to_array(im)\n",
    "img /= 255\n",
    "img = np.expand_dims(img, axis=0)\n",
    "\n",
    "im_mask = cv2.imread('yourimagepath/masks/truemask.png')\n",
    "im_mask = cv2.cvtColor(im_mask, cv2.COLOR_BGR2GRAY)\n",
    "im_mask = cv2.resize(im_mask, (im_height, im_width), interpolation = cv2.INTER_AREA)\n",
    "img_mask = img_to_array(im_mask)\n",
    "img_mask /= 255\n",
    "img_mask = np.expand_dims(img_mask, axis=0)"
   ]
  },
  {
   "cell_type": "code",
   "execution_count": null,
   "metadata": {},
   "outputs": [],
   "source": [
    "preds_val = model.predict(img, verbose=1)\n",
    "preds_val_t = (preds_val > 0.75).astype(np.float32)"
   ]
  },
  {
   "cell_type": "code",
   "execution_count": null,
   "metadata": {},
   "outputs": [],
   "source": [
    "def plot_sample(X, y, preds, binary_preds, ix=None):\n",
    "    if ix is None:\n",
    "        ix = random.randint(0, len(X))\n",
    "\n",
    "    has_mask = y[ix].max() > 0\n",
    "\n",
    "    fig, ax = plt.subplots(1, 4, figsize=(20, 10))\n",
    "    ax[0].imshow(X[ix, ..., 0], cmap='jet')\n",
    "    if has_mask:\n",
    "        ax[0].contour(y[ix].squeeze(), colors='k', levels=[0.5])\n",
    "    ax[0].set_title('Jet')\n",
    "\n",
    "    ax[1].imshow(y[ix].squeeze())\n",
    "    ax[1].set_title('Salt')\n",
    "\n",
    "    ax[2].imshow(preds[ix], vmin=0, vmax=1)\n",
    "    if has_mask:\n",
    "        ax[2].contour(y[ix].squeeze(), colors='k', levels=[0.5])\n",
    "    ax[2].set_title('Salt Predicted')\n",
    "    \n",
    "    ax[3].imshow(binary_preds[ix].squeeze(), vmin=0, vmax=1)\n",
    "    if has_mask:\n",
    "        ax[3].contour(y[ix].squeeze(), colors='k', levels=[0.5])\n",
    "    ax[3].set_title('Salt Predicted binary');"
   ]
  },
  {
   "cell_type": "code",
   "execution_count": null,
   "metadata": {},
   "outputs": [],
   "source": [
    "plot_sample(img, img_mask, preds_val, preds_val_t, ix=0)"
   ]
  }
 ],
 "metadata": {
  "kernelspec": {
   "display_name": "Python 3",
   "language": "python",
   "name": "python3"
  },
  "language_info": {
   "codemirror_mode": {
    "name": "ipython",
    "version": 3
   },
   "file_extension": ".py",
   "mimetype": "text/x-python",
   "name": "python",
   "nbconvert_exporter": "python",
   "pygments_lexer": "ipython3",
   "version": "3.6.10"
  }
 },
 "nbformat": 4,
 "nbformat_minor": 4
}
